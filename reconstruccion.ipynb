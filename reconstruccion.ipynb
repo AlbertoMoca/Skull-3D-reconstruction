{
 "cells": [
  {
   "cell_type": "code",
   "execution_count": 1,
   "id": "f1b6b188-d050-4ee0-a3f2-3941958291fb",
   "metadata": {},
   "outputs": [],
   "source": [
    "import matplotlib.pyplot as plt\n",
    "import numpy as np\n",
    "from PIL import Image\n",
    "from mpl_toolkits.mplot3d import Axes3D\n",
    "import cv2\n",
    "from scipy import ndimage\n",
    "import glob\n",
    "from tqdm import tqdm"
   ]
  },
  {
   "cell_type": "code",
   "execution_count": 2,
   "id": "056bd5bd-e762-483d-b031-3427c5cb5cc7",
   "metadata": {},
   "outputs": [],
   "source": [
    "\n",
    "images_path = [glob.glob(\"Imagenes_craneo_3d/*\")][0]\n",
    "images_path.sort()"
   ]
  },
  {
   "cell_type": "code",
   "execution_count": 3,
   "id": "5cd1dec7-5e15-4f31-a339-2298411798b1",
   "metadata": {},
   "outputs": [],
   "source": [
    "n_degrees = len(images_path)\n",
    "n_height = 416"
   ]
  },
  {
   "cell_type": "code",
   "execution_count": 4,
   "id": "51f06155-7537-4135-85ab-445c08ba628a",
   "metadata": {
    "tags": []
   },
   "outputs": [
    {
     "name": "stderr",
     "output_type": "stream",
     "text": [
      "103it [00:37,  2.74it/s]\n"
     ]
    }
   ],
   "source": [
    "th = []\n",
    "xs = np.zeros((n_height,n_degrees))\n",
    "zs = np.zeros((n_height,n_degrees))\n",
    "\n",
    "for im_id,path in tqdm(zip(range(len(images_path)),images_path)):\n",
    "    \n",
    "    th.append(im_id*(2*np.pi)/len(images_path))\n",
    "    img = 1-(np.mean(np.array(Image.open(path)),axis=-1)/255)\n",
    "    \n",
    "    if img.shape[0] ==720:\n",
    "        img=np.flip(img.T, -1)\n",
    "    img = img[200:800,:]\n",
    "    img[img>.5]=1\n",
    "    img[img<=.5]=0\n",
    "\n",
    "    md_img = ndimage.median_filter(img, size=10)\n",
    "    \n",
    "    counter = 0\n",
    "    for i,line in zip(range(md_img.shape[0]),md_img):\n",
    "        if np.sum(np.argwhere(line == 1))>=2 and counter < 416:\n",
    "            counter+=1\n",
    "            borders = np.argwhere(line == 1)\n",
    "            min_border = min(borders)[0]\n",
    "            \n",
    "            r=min_border-350\n",
    "            \n",
    "            xs[counter-1,im_id]=np.cos(th[-1])*r\n",
    "            zs[counter-1,im_id]=np.sin(th[-1])*r\n",
    "            "
   ]
  },
  {
   "cell_type": "code",
   "execution_count": 5,
   "id": "784df894-0b61-4569-ae81-6abbf7c7361a",
   "metadata": {},
   "outputs": [],
   "source": [
    "theta_grid, y_grid=np.meshgrid(th, np.arange(416))"
   ]
  },
  {
   "cell_type": "code",
   "execution_count": 6,
   "id": "f9b6b976-141d-4d28-a914-39e0c1e31765",
   "metadata": {},
   "outputs": [
    {
     "data": {
      "application/vnd.jupyter.widget-view+json": {
       "model_id": "fbeb8c825e9c4b8b856c73f023f5a29c",
       "version_major": 2,
       "version_minor": 0
      },
      "text/plain": [
       "Canvas(toolbar=Toolbar(toolitems=[('Home', 'Reset original view', 'home', 'home'), ('Back', 'Back to previous …"
      ]
     },
     "metadata": {},
     "output_type": "display_data"
    }
   ],
   "source": [
    "%matplotlib ipympl\n",
    "\n",
    "fig = plt.figure()\n",
    "ax = fig.add_subplot(111, projection='3d')\n",
    "\n",
    "ax.plot_surface(xs, zs,-y_grid, alpha=1,color=\"b\")\n",
    "\n",
    "plt.show()"
   ]
  },
  {
   "cell_type": "code",
   "execution_count": null,
   "id": "a6c93880-76a2-4d7b-9d0e-fe8c192e1a0f",
   "metadata": {},
   "outputs": [],
   "source": []
  },
  {
   "cell_type": "code",
   "execution_count": null,
   "id": "a0f2cca2-e6e0-4a03-94a4-9748cce8910c",
   "metadata": {},
   "outputs": [],
   "source": []
  }
 ],
 "metadata": {
  "kernelspec": {
   "display_name": "Python 3",
   "language": "python",
   "name": "python3"
  },
  "language_info": {
   "codemirror_mode": {
    "name": "ipython",
    "version": 3
   },
   "file_extension": ".py",
   "mimetype": "text/x-python",
   "name": "python",
   "nbconvert_exporter": "python",
   "pygments_lexer": "ipython3",
   "version": "3.8.5"
  }
 },
 "nbformat": 4,
 "nbformat_minor": 5
}
